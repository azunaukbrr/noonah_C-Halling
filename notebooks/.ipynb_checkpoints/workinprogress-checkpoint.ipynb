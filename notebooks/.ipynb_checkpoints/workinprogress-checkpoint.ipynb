{
 "cells": [
  {
   "cell_type": "code",
   "execution_count": 33,
   "metadata": {},
   "outputs": [],
   "source": [
    "import pysftp\n",
    "import pandas as pd\n",
    "import numpy as np\n",
    "from pathlib import Path"
   ]
  },
  {
   "cell_type": "code",
   "execution_count": 2,
   "metadata": {},
   "outputs": [],
   "source": [
    "#FTP Module\n",
    "# cnopts = pysftp.CnOpts()\n",
    "# cnopts.hostkeys = None\n",
    "# sftp = pysftp.Connection('sftp.talentreef.com', username=hidden, password=hidden, cnopts=cnopts)\n",
    "# sftp.get('/outbound/pde/TCF_18703/TCF_Terminations/TCF_Terminations20210802-1300-23.csv')\n",
    "# print(\"Process Complete\")"
   ]
  },
  {
   "cell_type": "code",
   "execution_count": 44,
   "metadata": {},
   "outputs": [
    {
     "data": {
      "text/html": [
       "<div>\n",
       "<style scoped>\n",
       "    .dataframe tbody tr th:only-of-type {\n",
       "        vertical-align: middle;\n",
       "    }\n",
       "\n",
       "    .dataframe tbody tr th {\n",
       "        vertical-align: top;\n",
       "    }\n",
       "\n",
       "    .dataframe thead th {\n",
       "        text-align: right;\n",
       "    }\n",
       "</style>\n",
       "<table border=\"1\" class=\"dataframe\">\n",
       "  <thead>\n",
       "    <tr style=\"text-align: right;\">\n",
       "      <th></th>\n",
       "      <th>EMP_NO</th>\n",
       "      <th>PAYCODE</th>\n",
       "      <th>PAYRATE</th>\n",
       "      <th>HOURS</th>\n",
       "    </tr>\n",
       "  </thead>\n",
       "  <tbody>\n",
       "    <tr>\n",
       "      <th>0</th>\n",
       "      <td>101001</td>\n",
       "      <td>Hourly</td>\n",
       "      <td>15</td>\n",
       "      <td>51</td>\n",
       "    </tr>\n",
       "    <tr>\n",
       "      <th>1</th>\n",
       "      <td>101003</td>\n",
       "      <td>Hourly</td>\n",
       "      <td>40</td>\n",
       "      <td>35</td>\n",
       "    </tr>\n",
       "    <tr>\n",
       "      <th>2</th>\n",
       "      <td>101005</td>\n",
       "      <td>Hourly</td>\n",
       "      <td>45</td>\n",
       "      <td>40</td>\n",
       "    </tr>\n",
       "    <tr>\n",
       "      <th>3</th>\n",
       "      <td>101006</td>\n",
       "      <td>Hourly</td>\n",
       "      <td>17</td>\n",
       "      <td>55</td>\n",
       "    </tr>\n",
       "    <tr>\n",
       "      <th>4</th>\n",
       "      <td>101007</td>\n",
       "      <td>Hourly</td>\n",
       "      <td>15</td>\n",
       "      <td>50</td>\n",
       "    </tr>\n",
       "    <tr>\n",
       "      <th>5</th>\n",
       "      <td>101009</td>\n",
       "      <td>Hourly</td>\n",
       "      <td>15</td>\n",
       "      <td>40</td>\n",
       "    </tr>\n",
       "    <tr>\n",
       "      <th>6</th>\n",
       "      <td>101010</td>\n",
       "      <td>Hourly</td>\n",
       "      <td>17</td>\n",
       "      <td>40</td>\n",
       "    </tr>\n",
       "    <tr>\n",
       "      <th>7</th>\n",
       "      <td>101011</td>\n",
       "      <td>Hourly</td>\n",
       "      <td>35</td>\n",
       "      <td>40</td>\n",
       "    </tr>\n",
       "  </tbody>\n",
       "</table>\n",
       "</div>"
      ],
      "text/plain": [
       "   EMP_NO PAYCODE  PAYRATE  HOURS\n",
       "0  101001  Hourly       15     51\n",
       "1  101003  Hourly       40     35\n",
       "2  101005  Hourly       45     40\n",
       "3  101006  Hourly       17     55\n",
       "4  101007  Hourly       15     50\n",
       "5  101009  Hourly       15     40\n",
       "6  101010  Hourly       17     40\n",
       "7  101011  Hourly       35     40"
      ]
     },
     "execution_count": 44,
     "metadata": {},
     "output_type": "execute_result"
    }
   ],
   "source": [
    "#Loading Employee Data\n",
    "employee_data = pd.read_csv(Path(\"../Resources/Source_data/master.csv\"), header = 0, usecols = [\"EMP_NO\",\"PAYCODE\",\"PAYRATE\"])\n",
    "hour_data = pd.read_csv(Path(\"../Resources/Source_data/hours.csv\"))    "
   ]
  },
  {
   "cell_type": "code",
   "execution_count": 45,
   "metadata": {},
   "outputs": [],
   "source": [
    "#Calculating Hourly Wages\n",
    "hourly_emp_data = employee_data.loc[employee_data[\"PAYCODE\"] == \"Hourly\"]\n",
    "hourly_grid = pd.merge(hourly_emp_data, hour_data, how = \"inner\", on = \"EMP_NO\")\n",
    "hourly_grid"
   ]
  },
  {
   "cell_type": "code",
   "execution_count": 51,
   "metadata": {},
   "outputs": [
    {
     "ename": "SyntaxError",
     "evalue": "unexpected EOF while parsing (<ipython-input-51-fef654c54f54>, line 1)",
     "output_type": "error",
     "traceback": [
      "\u001b[1;36m  File \u001b[1;32m\"<ipython-input-51-fef654c54f54>\"\u001b[1;36m, line \u001b[1;32m1\u001b[0m\n\u001b[1;33m    hourly_grid[\"HOURLY_WAGE\"] = np.where(hourly_grid[\"HOURS\"] > 40,  ((40 * hourly_grid[\"PAYRATE\"]) + ((hourly_grid[\"HOURS\"] - 40) * 1.5 * hourly_grid[\"PAYRATE\"])), (hourly_grid[\"PAYRATE\"] * hourly_grid[\"HOURS\"])\u001b[0m\n\u001b[1;37m                                                                                                                                                                                                                     ^\u001b[0m\n\u001b[1;31mSyntaxError\u001b[0m\u001b[1;31m:\u001b[0m unexpected EOF while parsing\n"
     ]
    }
   ],
   "source": [
    "hourly_grid[\"HOURLY_WAGE\"] = np.where(hourly_grid[\"HOURS\"] > 40,\n",
    "(40 * hourly_grid[\"PAYRATE\"])  1.5 * hourly_grid[\"PAYRATE\"])), (hourly_grid[\"PAYRATE\"] * hourly_grid[\"HOURS\"])"
   ]
  },
  {
   "cell_type": "code",
   "execution_count": null,
   "metadata": {},
   "outputs": [],
   "source": []
  }
 ],
 "metadata": {
  "kernelspec": {
   "display_name": "Python 3",
   "language": "python",
   "name": "python3"
  },
  "language_info": {
   "codemirror_mode": {
    "name": "ipython",
    "version": 3
   },
   "file_extension": ".py",
   "mimetype": "text/x-python",
   "name": "python",
   "nbconvert_exporter": "python",
   "pygments_lexer": "ipython3",
   "version": "3.8.5"
  }
 },
 "nbformat": 4,
 "nbformat_minor": 4
}
