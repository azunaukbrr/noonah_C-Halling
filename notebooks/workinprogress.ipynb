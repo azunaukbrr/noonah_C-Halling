{
 "cells": [
  {
   "cell_type": "code",
   "execution_count": 1,
   "source": [
    "import os\r\n",
    "os.system(\"cls\")\r\n",
    "print(\"Loading Payroll Program...\")\r\n",
    "import pysftp\r\n",
    "import pandas as pd\r\n",
    "import numpy as np\r\n",
    "from pathlib import Path\r\n",
    "import datetime\r\n",
    "import time\r\n",
    "from time import sleep\r\n",
    "import shutil \r\n",
    "import sys\r\n",
    "from tqdm import tqdm\r\n",
    "from dotenv import load_dotenv\r\n",
    "import pdfkit\r\n",
    "import warnings\r\n",
    "warnings.filterwarnings(\"ignore\")\r\n",
    "now = datetime.datetime.now()\r\n",
    "timestamp = str(now.strftime(\"%Y%m%d_%H%M%S\"))\r\n",
    "\r\n",
    "def taxes_single(income):\r\n",
    "        if income < 9950:\r\n",
    "            tax = income * 0.1\r\n",
    "        elif income > 9951 and income <= 40525:\r\n",
    "            tax = ((income-9950)*(0.12)) + (9950 * 0.1)\r\n",
    "        elif income > 40526 and income <= 86375:\r\n",
    "            tax = ((income-40525)*(0.22)) + (9950 * 0.1) + ((40525 - 9950) * 0.12)\r\n",
    "        elif income > 86376 and income <= 164925:\r\n",
    "            tax = ((income-86375)*(0.24)) + (9950 * 0.1) + ((40525 - 9950) * 0.12) + ((86376 - 40525 - 9950) * 0.22)\r\n",
    "        elif income > 164926 and income <= 209425:\r\n",
    "            tax = ((income-164925)*(0.32)) + (9950 * 0.1) + ((40525 - 9950) * 0.12) + ((86376 - 40525 - 9950) * 0.22) + ((164925 - 86375 - 40525 - 9950) * 0.24)\r\n",
    "        elif income > 209426 and income <= 523600:\r\n",
    "            tax = ((income-209425)*(0.35)) + (9950 * 0.1) + ((40525 - 9950) * 0.12) + ((86376 - 40525 - 9950) * 0.22) + ((164925 - 86375 - 40525 - 9950) * 0.24) + ((209425 - 164925 - 86375 - 40525 - 9950) * 0.32)\r\n",
    "        elif income > 523601:\r\n",
    "            tax = ((income-523600)*(0.37)) + (9950 * 0.1) + ((40525 - 9950) * 0.12) + ((86376 - 40525 - 9950) * 0.22) + ((164925 - 86375 - 40525 - 9950) * 0.24) + ((209425 - 164925 - 86375 - 40525 - 9950) * 0.32) + ((523600 - 209425 - 164925 - 86375 - 40525 - 9950) * 0.35)\r\n",
    "        return (tax / 52)\r\n",
    "\r\n",
    "def taxes_married(income):\r\n",
    "        if income < 19900:\r\n",
    "            tax = income * 0.1\r\n",
    "        elif income > 19901 and income <= 81050:\r\n",
    "            tax = ((income-19900)*(0.12)) + (19900 * 0.1)\r\n",
    "        elif income > 81051 and income <= 172750:\r\n",
    "            tax = ((income-81050)*(0.22)) + (19900 * 0.1) + ((81050 - 19900) * 0.12)\r\n",
    "        elif income > 172751 and income <= 329850:\r\n",
    "            tax = ((income-172750)*(0.24)) + (19900 * 0.1) + ((81050 - 19900) * 0.12) + ((172751 - 81050 - 19900) * 0.22)\r\n",
    "        elif income > 329851 and income <= 418850:\r\n",
    "            tax = ((income-329850)*(0.32)) + (19900 * 0.1) + ((81050 - 19900) * 0.12) + ((172751 - 81050 - 19900) * 0.22) + ((329850 - 172750 - 81050 - 19900) * 0.24)\r\n",
    "        elif income > 418851 and income <= 628300:\r\n",
    "            tax = ((income-418850)*(0.35)) + (19900 * 0.1) + ((81050 - 19900) * 0.12) + ((172751 - 81050 - 19900) * 0.22) + ((329850 - 172750 - 81050 - 19900) * 0.24) + ((418850 - 329850 - 172750 - 81050 - 19900) * 0.32)\r\n",
    "        elif income > 628301:\r\n",
    "            tax = ((income-628300)*(0.37)) + (19900 * 0.1) + ((81050 - 19900) * 0.12) + ((172751 - 81050 - 19900) * 0.22) + ((329850 - 172750 - 81050 - 19900) * 0.24) + ((418850 - 329850 - 172750 - 81050 - 19900) * 0.32) + ((628300 - 418850 - 329850 - 172750 - 81050 - 19900) * 0.35)\r\n",
    "        return (tax / 52)\r\n",
    "\r\n",
    "def medicare(income):\r\n",
    "        medicare_tax = income * 0.0145\r\n",
    "        return medicare_tax\r\n",
    "\r\n",
    "def ss(income):\r\n",
    "        ss_tax = income * 0.0620\r\n",
    "        return ss_tax\r\n",
    "\r\n",
    "os.system(\"cls\")\r\n",
    "print(\"This is a Payroll Processing Program designed to retrieve information from the employee self service portal, validate / update data to Employee Master Records and process payroll with ACH file output\")\r\n",
    "os.system(\"pause\")"
   ],
   "outputs": [],
   "metadata": {}
  },
  {
   "cell_type": "code",
   "execution_count": 169,
   "source": [
    "#Creating Employee Master Backup<final>\r\n",
    "print(\"Creating Employee Master Backup...\") \r\n",
    "for i in tqdm(range(10)):\r\n",
    "    sleep(0.5)\r\n",
    "src = Path(\"../Resources/Source_data/master.csv\")\r\n",
    "dst = Path(\"../Resources/Source_data/Archive/MASTER_BACKUP.csv\")\r\n",
    "shutil.copy(src, dst)\r\n",
    "print(\"Employee Master Backup Complete\")\r\n",
    "\r\n",
    "#Downloading Updates\r\n",
    "# load_dotenv()\r\n",
    "# server = os.getenv(\"ftp_server\")\r\n",
    "# username = os.getenv(\"ftp_user\")\r\n",
    "# password = os,getenv(\"ftp_pass\")\r\n",
    "# cnopts = pysftp.CnOpts()\r\n",
    "# cnopts.hostkeys = None\r\n",
    "# sftp = pysftp.Connection(server, username=username, password=password, cnopts=cnopts)\r\n",
    "print(\"Downloading Data...\")\r\n",
    "# sftp.get('/outbound/noonah_CHalling/updates.csv')\r\n",
    "for i in tqdm(range(10)):\r\n",
    "    sleep(1)\r\n",
    "print(\"Download Complete\")\r\n",
    "os.system(\"pause\")"
   ],
   "outputs": [
    {
     "output_type": "stream",
     "name": "stderr",
     "text": [
      "  0%|          | 0/10 [00:00<?, ?it/s]"
     ]
    },
    {
     "output_type": "stream",
     "name": "stdout",
     "text": [
      "Creating Employee Master Backup...\n"
     ]
    },
    {
     "output_type": "stream",
     "name": "stderr",
     "text": [
      "100%|██████████| 10/10 [00:05<00:00,  1.94it/s]\n",
      "  0%|          | 0/10 [00:00<?, ?it/s]"
     ]
    },
    {
     "output_type": "stream",
     "name": "stdout",
     "text": [
      "Employee Master Backup Complete\n",
      "Downloading Data...\n"
     ]
    },
    {
     "output_type": "stream",
     "name": "stderr",
     "text": [
      "100%|██████████| 10/10 [00:10<00:00,  1.01s/it]"
     ]
    },
    {
     "output_type": "stream",
     "name": "stdout",
     "text": [
      "Download Complete\n"
     ]
    },
    {
     "output_type": "stream",
     "name": "stderr",
     "text": [
      "\n"
     ]
    },
    {
     "output_type": "execute_result",
     "data": {
      "text/plain": [
       "0"
      ]
     },
     "metadata": {},
     "execution_count": 169
    }
   ],
   "metadata": {}
  },
  {
   "cell_type": "code",
   "execution_count": 170,
   "source": [
    "#Validating Employee Update Data<final>\r\n",
    "os.system(\"cls\")\r\n",
    "print(\"Validating Employee Update Data...\")\r\n",
    "upval_employee_data_updates = pd.read_csv(Path(\"../Resources/Source_data/updates.csv\"), dtype = {\"EMP_NO\" : str, \"SSN\" : str, \"BANK_RTN\" : str, \"BANK_ACC\" : str}) \r\n",
    "\r\n",
    "upval_employee_data_updates[\"Issue\"] = np.where(upval_employee_data_updates[\"EMP_NO\"].isna(), \"Employee Number is Missing\",\r\n",
    "    np.where(upval_employee_data_updates[\"FIRST_NAME\"].isna(), \"Name is Missing\",\r\n",
    "    np.where(upval_employee_data_updates[\"SSN\"].isna(), \"SSN is Missing\",\r\n",
    "    np.where(upval_employee_data_updates[\"JOBTITLE\"].isna(), \"Job Title is Missing\",\r\n",
    "    np.where(upval_employee_data_updates[\"HIREDATE\"].isna(), \"Hire Date is Missing\",\r\n",
    "    np.where(upval_employee_data_updates[\"DOB\"].isna(), \"Date of Birth is Missing\",\r\n",
    "    np.where(upval_employee_data_updates[\"FEDFILINGSTATUS\"].isna(), \"Federal Filing Status is Missing\",\r\n",
    "    np.where(upval_employee_data_updates[\"WORKSTATE\"].isna(), \"Work State is Missing\",\r\n",
    "    np.where(upval_employee_data_updates[\"BANK_RTN\"].isna(), \"Bank Routing Number is Missing\",\r\n",
    "    np.where(upval_employee_data_updates[\"BANK_ACC\"].isna(), \"Bank Account Number is Missing\",\r\n",
    "    np.where(upval_employee_data_updates[\"EMP_STATUS\"].isna(), \"Employment Status is Missing\",\r\n",
    "    np.where(upval_employee_data_updates[\"PAYCODE\"].isna(), \"Pay code is Missing\",\r\n",
    "    np.where(upval_employee_data_updates[\"PAYRATE\"].isna(), \"Pay rate is Missing\",\"\")))))))))))))\r\n",
    "\r\n",
    "upval_employee_data_good_records = upval_employee_data_updates.dropna(subset=[\"FIRST_NAME\",\"SSN\",\"JOBTITLE\",\"HIREDATE\",\"DOB\",\"FEDFILINGSTATUS\",\"WORKSTATE\",\"BANK_RTN\",\"BANK_ACC\",\"EMP_STATUS\",\"PAYCODE\",\"PAYRATE\"])\r\n",
    "upval_employee_data_good_records = upval_employee_data_good_records.drop(labels=\"Issue\", axis=1)\r\n",
    "\r\n",
    "upval_employee_data_issues = upval_employee_data_updates[upval_employee_data_updates[\"Issue\"] != \"\"]\r\n",
    "upval_employee_data_issues = upval_employee_data_issues.rename_axis(mapper=\"Record#\", axis=1)\r\n",
    "upval_employee_data_issues.index+= 1\r\n",
    "upval_employee_data_bad_records = upval_employee_data_issues\r\n",
    "upval_employee_data_bad_records.to_csv(Path(\"../Resources/Source_data/badrec.csv\"), index=False, na_rep=\"\")\r\n",
    "upval_employee_data_issues_report = upval_employee_data_issues[[\"Issue\"]]\r\n",
    "for i in tqdm(range(10)):\r\n",
    "    sleep(1)\r\n",
    "print(\"Validation Complete\")\r\n",
    "ques1 = input(\"Do you want to review (Y / N)?  \")\r\n",
    "if ques1 == \"Y\": \r\n",
    "    print(upval_employee_data_issues_report)\r\n",
    "    os.system(\"pause\")\r\n",
    "    os.system(\"cls\")\r\n",
    "elif ques1 == \"N\": \r\n",
    "    os.system(\"cls\")\r\n",
    "else: \r\n",
    "    print(\"Please enter Y or N.\") \r\n"
   ],
   "outputs": [
    {
     "output_type": "stream",
     "name": "stderr",
     "text": [
      "  0%|          | 0/10 [00:00<?, ?it/s]"
     ]
    },
    {
     "output_type": "stream",
     "name": "stdout",
     "text": [
      "Validating Employee Update Data...\n"
     ]
    },
    {
     "output_type": "stream",
     "name": "stderr",
     "text": [
      "100%|██████████| 10/10 [00:10<00:00,  1.01s/it]\n"
     ]
    },
    {
     "output_type": "stream",
     "name": "stdout",
     "text": [
      "Validation Complete\n",
      "Record#            Issue\n",
      "1        Name is Missing\n",
      "5         SSN is Missing\n"
     ]
    }
   ],
   "metadata": {}
  },
  {
   "cell_type": "code",
   "execution_count": 171,
   "source": [
    "#Updating Employee Master<final>\r\n",
    "print(\"Adding Good Records to Employee Master\")\r\n",
    "upval_employee_data = pd.read_csv(Path(\"../Resources/Source_data/master.csv\"), index_col = \"EMP_NO\", keep_default_na = False, dtype = {\"SSN\" : str, \"BANK_RTN\" : str, \"BANK_ACC\" : str})\r\n",
    "upval_employee_data_updates = pd.read_csv(Path(\"../Resources/Source_data/updates.csv\"), index_col = \"EMP_NO\", keep_default_na = False, dtype = {\"SSN\" : str, \"BANK_RTN\" : str, \"BANK_ACC\" : str}) \r\n",
    "upval_employee_data = upval_employee_data[~upval_employee_data.index.isin(upval_employee_data_updates.index)].reset_index()\r\n",
    "upval_employee_data_updates = upval_employee_data_updates.reset_index()\r\n",
    "upval_employee_data = upval_employee_data.append(upval_employee_data_updates, ignore_index=\"True\", verify_integrity=\"True\").sort_values(by=\"EMP_NO\").astype(\"str\")\r\n",
    "upval_employee_data.to_csv(Path(\"../Resources/Source_data/master1.csv\"), index=False)\r\n",
    "for i in tqdm(range(10)):\r\n",
    "    sleep(1)\r\n",
    "print(\"Update Complete\")\r\n",
    "os.system(\"pause\")\r\n",
    "os.system(\"cls\")"
   ],
   "outputs": [
    {
     "output_type": "stream",
     "name": "stderr",
     "text": [
      "  0%|          | 0/10 [00:00<?, ?it/s]"
     ]
    },
    {
     "output_type": "stream",
     "name": "stdout",
     "text": [
      "Adding Good Records to Employee Master\n"
     ]
    },
    {
     "output_type": "stream",
     "name": "stderr",
     "text": [
      "100%|██████████| 10/10 [00:10<00:00,  1.01s/it]"
     ]
    },
    {
     "output_type": "stream",
     "name": "stdout",
     "text": [
      "Update Complete\n"
     ]
    },
    {
     "output_type": "stream",
     "name": "stderr",
     "text": [
      "\n"
     ]
    },
    {
     "output_type": "execute_result",
     "data": {
      "text/plain": [
       "0"
      ]
     },
     "metadata": {},
     "execution_count": 171
    }
   ],
   "metadata": {}
  },
  {
   "cell_type": "code",
   "execution_count": 172,
   "source": [
    "#Loading Employee Data\r\n",
    "employee_data = pd.read_csv(Path(\"../Resources/Source_data/master1.csv\"), header = 0, usecols = [\"EMP_NO\",\"FEDFILINGSTATUS\",\"EMP_STATUS\",\"PAYCODE\",\"PAYRATE\"])\r\n",
    "hour_data = pd.read_csv(Path(\"../Resources/Source_data/hours.csv\")) \r\n",
    "employee_ach_data = pd.read_csv(Path(\"../Resources/Source_data/master1.csv\"), header = 0, usecols = [\"EMP_NO\",\"FIRST_NAME\",\"LAST_NAME\",\"BANK_RTN\",\"BANK_ACC\"], dtype = {\"BANK_RTN\" : str, \"BANK_ACC\" : str})"
   ],
   "outputs": [],
   "metadata": {}
  },
  {
   "cell_type": "code",
   "execution_count": 173,
   "source": [
    "#Calculating Hourly Wages\r\n",
    "hourly_emp_data = employee_data.loc[employee_data[\"PAYCODE\"] == \"Hourly\"]\r\n",
    "hourly_emp_data = employee_data.loc[employee_data[\"EMP_STATUS\"] == \"Active\"]\r\n",
    "hourly_grid = pd.merge(hourly_emp_data, hour_data, how = \"inner\", on = \"EMP_NO\")\r\n",
    "hourly_grid[\"WAGES\"] = np.where(hourly_grid[\"HOURS\"] > 40, \r\n",
    "    ((hourly_grid[\"HOURS\"]-40)*1.5*hourly_grid[\"PAYRATE\"])+ (hourly_grid[\"PAYRATE\"]*40), \r\n",
    "    (hourly_grid[\"HOURS\"] * hourly_grid[\"PAYRATE\"]))\r\n",
    "# hourly_grid.drop([\"EMP_STATUS\",\"PAYCODE\",\"PAYRATE\",\"HOURS\"], axis=1).round(2)\r\n",
    "\r\n",
    "#Calculating Salary Wages\r\n",
    "salary_grid = employee_data.loc[employee_data[\"PAYCODE\"] == \"Salary\"]\r\n",
    "salary_grid = salary_grid.loc[salary_grid[\"EMP_STATUS\"] == \"Active\"]\r\n",
    "salary_grid[\"WAGES\"] = salary_grid[\"PAYRATE\"] / 52\r\n",
    "salary_grid.drop([\"EMP_STATUS\"], axis=1).round(2)\r\n",
    "\r\n",
    "#Combining Salary and Hourly Wages\r\n",
    "all_wages = hourly_grid.append(salary_grid, ignore_index=True, verify_integrity= True)\r\n",
    "all_wages.drop([\"EMP_STATUS\",\"PAYRATE\",\"HOURS\"], axis=1).round(2)\r\n",
    "\r\n",
    "#Tax Calculation\r\n",
    "all_wages[\"WAGESANA\"] = all_wages[\"WAGES\"] * 52\r\n",
    "tax_single_all_wages = all_wages.loc[all_wages[\"FEDFILINGSTATUS\"] == \"Single or Married filing separately\"]\r\n",
    "tax_single_all_wages[\"TAX\"]=tax_single_all_wages[\"WAGESANA\"].apply(taxes_single)\r\n",
    "tax_single_all_wages[\"NET_WAGES\"]= tax_single_all_wages[\"WAGES\"] - tax_single_all_wages[\"TAX\"]\r\n",
    "\r\n",
    "tax_married_all_wages = all_wages.loc[all_wages[\"FEDFILINGSTATUS\"] == \"Married or filing jointly\"]\r\n",
    "tax_married_all_wages[\"TAX\"]=tax_married_all_wages[\"WAGESANA\"].apply(taxes_single)\r\n",
    "tax_married_all_wages[\"NET_WAGES\"]= tax_married_all_wages[\"WAGES\"] - tax_married_all_wages[\"TAX\"]\r\n",
    "\r\n",
    "final_wages = tax_single_all_wages.append(tax_married_all_wages, ignore_index=True, verify_integrity= True)\r\n",
    "final_wages.drop([\"EMP_STATUS\",\"PAYRATE\",\"HOURS\",\"WAGESANA\"], axis=1).round(2)"
   ],
   "outputs": [
    {
     "output_type": "execute_result",
     "data": {
      "text/plain": [
       "   EMP_NO                      FEDFILINGSTATUS PAYCODE    WAGES     TAX  \\\n",
       "0  101001  Single or Married filing separately  Hourly   847.50  104.69   \n",
       "1  101005  Single or Married filing separately  Hourly  1800.00  274.93   \n",
       "2  101006  Single or Married filing separately  Hourly  1062.50  151.99   \n",
       "3  101009  Single or Married filing separately  Hourly   600.00   68.17   \n",
       "4  101011  Single or Married filing separately  Hourly  1400.00  226.24   \n",
       "5  101000  Single or Married filing separately  Salary  2307.69  396.77   \n",
       "6  101004  Single or Married filing separately  Salary  1442.31  235.55   \n",
       "7  101008  Single or Married filing separately  Salary  1826.92  281.39   \n",
       "8  101003            Married or filing jointly  Hourly  1400.00  226.24   \n",
       "\n",
       "   NET_WAGES  \n",
       "0     742.81  \n",
       "1    1525.07  \n",
       "2     910.51  \n",
       "3     531.83  \n",
       "4    1173.76  \n",
       "5    1910.92  \n",
       "6    1206.76  \n",
       "7    1545.53  \n",
       "8    1173.76  "
      ],
      "text/html": [
       "<div>\n",
       "<style scoped>\n",
       "    .dataframe tbody tr th:only-of-type {\n",
       "        vertical-align: middle;\n",
       "    }\n",
       "\n",
       "    .dataframe tbody tr th {\n",
       "        vertical-align: top;\n",
       "    }\n",
       "\n",
       "    .dataframe thead th {\n",
       "        text-align: right;\n",
       "    }\n",
       "</style>\n",
       "<table border=\"1\" class=\"dataframe\">\n",
       "  <thead>\n",
       "    <tr style=\"text-align: right;\">\n",
       "      <th></th>\n",
       "      <th>EMP_NO</th>\n",
       "      <th>FEDFILINGSTATUS</th>\n",
       "      <th>PAYCODE</th>\n",
       "      <th>WAGES</th>\n",
       "      <th>TAX</th>\n",
       "      <th>NET_WAGES</th>\n",
       "    </tr>\n",
       "  </thead>\n",
       "  <tbody>\n",
       "    <tr>\n",
       "      <th>0</th>\n",
       "      <td>101001</td>\n",
       "      <td>Single or Married filing separately</td>\n",
       "      <td>Hourly</td>\n",
       "      <td>847.50</td>\n",
       "      <td>104.69</td>\n",
       "      <td>742.81</td>\n",
       "    </tr>\n",
       "    <tr>\n",
       "      <th>1</th>\n",
       "      <td>101005</td>\n",
       "      <td>Single or Married filing separately</td>\n",
       "      <td>Hourly</td>\n",
       "      <td>1800.00</td>\n",
       "      <td>274.93</td>\n",
       "      <td>1525.07</td>\n",
       "    </tr>\n",
       "    <tr>\n",
       "      <th>2</th>\n",
       "      <td>101006</td>\n",
       "      <td>Single or Married filing separately</td>\n",
       "      <td>Hourly</td>\n",
       "      <td>1062.50</td>\n",
       "      <td>151.99</td>\n",
       "      <td>910.51</td>\n",
       "    </tr>\n",
       "    <tr>\n",
       "      <th>3</th>\n",
       "      <td>101009</td>\n",
       "      <td>Single or Married filing separately</td>\n",
       "      <td>Hourly</td>\n",
       "      <td>600.00</td>\n",
       "      <td>68.17</td>\n",
       "      <td>531.83</td>\n",
       "    </tr>\n",
       "    <tr>\n",
       "      <th>4</th>\n",
       "      <td>101011</td>\n",
       "      <td>Single or Married filing separately</td>\n",
       "      <td>Hourly</td>\n",
       "      <td>1400.00</td>\n",
       "      <td>226.24</td>\n",
       "      <td>1173.76</td>\n",
       "    </tr>\n",
       "    <tr>\n",
       "      <th>5</th>\n",
       "      <td>101000</td>\n",
       "      <td>Single or Married filing separately</td>\n",
       "      <td>Salary</td>\n",
       "      <td>2307.69</td>\n",
       "      <td>396.77</td>\n",
       "      <td>1910.92</td>\n",
       "    </tr>\n",
       "    <tr>\n",
       "      <th>6</th>\n",
       "      <td>101004</td>\n",
       "      <td>Single or Married filing separately</td>\n",
       "      <td>Salary</td>\n",
       "      <td>1442.31</td>\n",
       "      <td>235.55</td>\n",
       "      <td>1206.76</td>\n",
       "    </tr>\n",
       "    <tr>\n",
       "      <th>7</th>\n",
       "      <td>101008</td>\n",
       "      <td>Single or Married filing separately</td>\n",
       "      <td>Salary</td>\n",
       "      <td>1826.92</td>\n",
       "      <td>281.39</td>\n",
       "      <td>1545.53</td>\n",
       "    </tr>\n",
       "    <tr>\n",
       "      <th>8</th>\n",
       "      <td>101003</td>\n",
       "      <td>Married or filing jointly</td>\n",
       "      <td>Hourly</td>\n",
       "      <td>1400.00</td>\n",
       "      <td>226.24</td>\n",
       "      <td>1173.76</td>\n",
       "    </tr>\n",
       "  </tbody>\n",
       "</table>\n",
       "</div>"
      ]
     },
     "metadata": {},
     "execution_count": 173
    }
   ],
   "metadata": {}
  },
  {
   "cell_type": "code",
   "execution_count": 174,
   "source": [
    "#Creating ACH File\r\n",
    "# employee_ach_data[\"NAME\"] = employee_ach_data[\"FIRST_NAME\"].str.upper() + [\" \"].str + employee_ach_data[\"LAST_NAME\"].str.upper()\r\n",
    "employee_ach_data = pd.merge(final_wages, employee_ach_data, how=\"inner\", on = \"EMP_NO\")\r\n",
    "employee_ach_data = employee_ach_data.drop([\"FEDFILINGSTATUS\",\"WAGES\",\"WAGESANA\",\"TAX\",\"EMP_STATUS\",\"PAYCODE\", \"PAYRATE\", \"HOURS\"], axis=1).round(2)\r\n",
    "employee_ach_data"
   ],
   "outputs": [
    {
     "output_type": "execute_result",
     "data": {
      "text/plain": [
       "   EMP_NO  NET_WAGES FIRST_NAME          LAST_NAME   BANK_RTN        BANK_ACC\n",
       "0  101001     742.81      Jamel            Bardney  124085244      1321541313\n",
       "1  101005    1525.07     Thomas          Hendricks  073905912      2136564123\n",
       "2  101006     910.51    Marcell           Mitchell  124085244  16848643139846\n",
       "3  101009     531.83    Dewayne            Chester  124085244       569746414\n",
       "4  101011    1173.76      Malik        Charleston   256074974      1235483141\n",
       "5  101000    1910.92       Eric               Lane  256074974      1235483141\n",
       "6  101004    1206.76     Terano             McCann  103100195      1564642132\n",
       "7  101008    1545.53      James            Wimbush  124085244       516461313\n",
       "8  101003    1173.76     Ivonne  Peralta Velazquez  091000019     21546931354"
      ],
      "text/html": [
       "<div>\n",
       "<style scoped>\n",
       "    .dataframe tbody tr th:only-of-type {\n",
       "        vertical-align: middle;\n",
       "    }\n",
       "\n",
       "    .dataframe tbody tr th {\n",
       "        vertical-align: top;\n",
       "    }\n",
       "\n",
       "    .dataframe thead th {\n",
       "        text-align: right;\n",
       "    }\n",
       "</style>\n",
       "<table border=\"1\" class=\"dataframe\">\n",
       "  <thead>\n",
       "    <tr style=\"text-align: right;\">\n",
       "      <th></th>\n",
       "      <th>EMP_NO</th>\n",
       "      <th>NET_WAGES</th>\n",
       "      <th>FIRST_NAME</th>\n",
       "      <th>LAST_NAME</th>\n",
       "      <th>BANK_RTN</th>\n",
       "      <th>BANK_ACC</th>\n",
       "    </tr>\n",
       "  </thead>\n",
       "  <tbody>\n",
       "    <tr>\n",
       "      <th>0</th>\n",
       "      <td>101001</td>\n",
       "      <td>742.81</td>\n",
       "      <td>Jamel</td>\n",
       "      <td>Bardney</td>\n",
       "      <td>124085244</td>\n",
       "      <td>1321541313</td>\n",
       "    </tr>\n",
       "    <tr>\n",
       "      <th>1</th>\n",
       "      <td>101005</td>\n",
       "      <td>1525.07</td>\n",
       "      <td>Thomas</td>\n",
       "      <td>Hendricks</td>\n",
       "      <td>073905912</td>\n",
       "      <td>2136564123</td>\n",
       "    </tr>\n",
       "    <tr>\n",
       "      <th>2</th>\n",
       "      <td>101006</td>\n",
       "      <td>910.51</td>\n",
       "      <td>Marcell</td>\n",
       "      <td>Mitchell</td>\n",
       "      <td>124085244</td>\n",
       "      <td>16848643139846</td>\n",
       "    </tr>\n",
       "    <tr>\n",
       "      <th>3</th>\n",
       "      <td>101009</td>\n",
       "      <td>531.83</td>\n",
       "      <td>Dewayne</td>\n",
       "      <td>Chester</td>\n",
       "      <td>124085244</td>\n",
       "      <td>569746414</td>\n",
       "    </tr>\n",
       "    <tr>\n",
       "      <th>4</th>\n",
       "      <td>101011</td>\n",
       "      <td>1173.76</td>\n",
       "      <td>Malik</td>\n",
       "      <td>Charleston</td>\n",
       "      <td>256074974</td>\n",
       "      <td>1235483141</td>\n",
       "    </tr>\n",
       "    <tr>\n",
       "      <th>5</th>\n",
       "      <td>101000</td>\n",
       "      <td>1910.92</td>\n",
       "      <td>Eric</td>\n",
       "      <td>Lane</td>\n",
       "      <td>256074974</td>\n",
       "      <td>1235483141</td>\n",
       "    </tr>\n",
       "    <tr>\n",
       "      <th>6</th>\n",
       "      <td>101004</td>\n",
       "      <td>1206.76</td>\n",
       "      <td>Terano</td>\n",
       "      <td>McCann</td>\n",
       "      <td>103100195</td>\n",
       "      <td>1564642132</td>\n",
       "    </tr>\n",
       "    <tr>\n",
       "      <th>7</th>\n",
       "      <td>101008</td>\n",
       "      <td>1545.53</td>\n",
       "      <td>James</td>\n",
       "      <td>Wimbush</td>\n",
       "      <td>124085244</td>\n",
       "      <td>516461313</td>\n",
       "    </tr>\n",
       "    <tr>\n",
       "      <th>8</th>\n",
       "      <td>101003</td>\n",
       "      <td>1173.76</td>\n",
       "      <td>Ivonne</td>\n",
       "      <td>Peralta Velazquez</td>\n",
       "      <td>091000019</td>\n",
       "      <td>21546931354</td>\n",
       "    </tr>\n",
       "  </tbody>\n",
       "</table>\n",
       "</div>"
      ]
     },
     "metadata": {},
     "execution_count": 174
    }
   ],
   "metadata": {}
  }
 ],
 "metadata": {
  "kernelspec": {
   "name": "python3",
   "display_name": "Python 3.8.5 64-bit ('base': conda)"
  },
  "language_info": {
   "codemirror_mode": {
    "name": "ipython",
    "version": 3
   },
   "file_extension": ".py",
   "mimetype": "text/x-python",
   "name": "python",
   "nbconvert_exporter": "python",
   "pygments_lexer": "ipython3",
   "version": "3.8.5"
  },
  "interpreter": {
   "hash": "e25754f819e5ddb9fb4a51521943ff76e5851b166975913eb81f20c6f120baaf"
  }
 },
 "nbformat": 4,
 "nbformat_minor": 4
}